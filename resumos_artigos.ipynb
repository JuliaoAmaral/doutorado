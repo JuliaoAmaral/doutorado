{
  "nbformat": 4,
  "nbformat_minor": 0,
  "metadata": {
    "colab": {
      "provenance": [],
      "authorship_tag": "ABX9TyPEsqzMDEfTHfiFGABioe6R",
      "include_colab_link": true
    },
    "kernelspec": {
      "name": "python3",
      "display_name": "Python 3"
    },
    "language_info": {
      "name": "python"
    }
  },
  "cells": [
    {
      "cell_type": "markdown",
      "metadata": {
        "id": "view-in-github",
        "colab_type": "text"
      },
      "source": [
        "<a href=\"https://colab.research.google.com/github/JuliaoAmaral/doutorado/blob/main/resumos_artigos.ipynb\" target=\"_parent\"><img src=\"https://colab.research.google.com/assets/colab-badge.svg\" alt=\"Open In Colab\"/></a>"
      ]
    },
    {
      "cell_type": "markdown",
      "source": [
        "O código abaixo tem a finalidade de fazer resumos dos artigos analisados na pesquisa. Os textos analisados são provenientes de arquivos .pdf que foram convertidos em .docx usando a ferramento do Google Drive. Uma vez em posse dos arquivos .docx, os textos foram resumidos usando a biblioteca Sumy."
      ],
      "metadata": {
        "id": "L1I71U5EDzs2"
      }
    },
    {
      "cell_type": "code",
      "execution_count": null,
      "metadata": {
        "id": "eHhA1dEUDqxr",
        "colab": {
          "base_uri": "https://localhost:8080/"
        },
        "outputId": "f95f7f6c-5aca-4ff8-837c-3e77d4751429"
      },
      "outputs": [
        {
          "output_type": "stream",
          "name": "stdout",
          "text": [
            "Mounted at /content/drive\n"
          ]
        }
      ],
      "source": [
        "# Montar o Google Drive no Google Colab:\n",
        "\n",
        "from google.colab import drive\n",
        "drive.mount('/content/drive')"
      ]
    },
    {
      "cell_type": "code",
      "source": [
        "# Instalação das bibliotecas necessárias\n",
        "!pip install python-docx\n",
        "!pip install sumy\n",
        "!pip install nltk\n",
        "\n",
        "# Importações necessárias\n",
        "from docx import Document\n",
        "import os\n",
        "from sumy.parsers.plaintext import PlaintextParser\n",
        "from sumy.nlp.tokenizers import Tokenizer\n",
        "from sumy.summarizers.luhn import LuhnSummarizer\n",
        "from nltk.tokenize import sent_tokenize\n",
        "import nltk\n",
        "nltk.download('punkt')"
      ],
      "metadata": {
        "id": "LZWLqZ71FMA3",
        "colab": {
          "base_uri": "https://localhost:8080/"
        },
        "outputId": "548f21ff-6003-4bf6-a12e-1b45ed3174db"
      },
      "execution_count": null,
      "outputs": [
        {
          "output_type": "stream",
          "name": "stdout",
          "text": [
            "Requirement already satisfied: python-docx in /usr/local/lib/python3.10/dist-packages (1.1.2)\n",
            "Requirement already satisfied: lxml>=3.1.0 in /usr/local/lib/python3.10/dist-packages (from python-docx) (4.9.4)\n",
            "Requirement already satisfied: typing-extensions>=4.9.0 in /usr/local/lib/python3.10/dist-packages (from python-docx) (4.12.2)\n",
            "Requirement already satisfied: sumy in /usr/local/lib/python3.10/dist-packages (0.11.0)\n",
            "Requirement already satisfied: docopt<0.7,>=0.6.1 in /usr/local/lib/python3.10/dist-packages (from sumy) (0.6.2)\n",
            "Requirement already satisfied: breadability>=0.1.20 in /usr/local/lib/python3.10/dist-packages (from sumy) (0.1.20)\n",
            "Requirement already satisfied: requests>=2.7.0 in /usr/local/lib/python3.10/dist-packages (from sumy) (2.32.3)\n",
            "Requirement already satisfied: pycountry>=18.2.23 in /usr/local/lib/python3.10/dist-packages (from sumy) (24.6.1)\n",
            "Requirement already satisfied: nltk>=3.0.2 in /usr/local/lib/python3.10/dist-packages (from sumy) (3.8.1)\n",
            "Requirement already satisfied: chardet in /usr/local/lib/python3.10/dist-packages (from breadability>=0.1.20->sumy) (5.2.0)\n",
            "Requirement already satisfied: lxml>=2.0 in /usr/local/lib/python3.10/dist-packages (from breadability>=0.1.20->sumy) (4.9.4)\n",
            "Requirement already satisfied: click in /usr/local/lib/python3.10/dist-packages (from nltk>=3.0.2->sumy) (8.1.7)\n",
            "Requirement already satisfied: joblib in /usr/local/lib/python3.10/dist-packages (from nltk>=3.0.2->sumy) (1.4.2)\n",
            "Requirement already satisfied: regex>=2021.8.3 in /usr/local/lib/python3.10/dist-packages (from nltk>=3.0.2->sumy) (2024.9.11)\n",
            "Requirement already satisfied: tqdm in /usr/local/lib/python3.10/dist-packages (from nltk>=3.0.2->sumy) (4.66.5)\n",
            "Requirement already satisfied: charset-normalizer<4,>=2 in /usr/local/lib/python3.10/dist-packages (from requests>=2.7.0->sumy) (3.3.2)\n",
            "Requirement already satisfied: idna<4,>=2.5 in /usr/local/lib/python3.10/dist-packages (from requests>=2.7.0->sumy) (3.10)\n",
            "Requirement already satisfied: urllib3<3,>=1.21.1 in /usr/local/lib/python3.10/dist-packages (from requests>=2.7.0->sumy) (2.2.3)\n",
            "Requirement already satisfied: certifi>=2017.4.17 in /usr/local/lib/python3.10/dist-packages (from requests>=2.7.0->sumy) (2024.8.30)\n",
            "Requirement already satisfied: nltk in /usr/local/lib/python3.10/dist-packages (3.8.1)\n",
            "Requirement already satisfied: click in /usr/local/lib/python3.10/dist-packages (from nltk) (8.1.7)\n",
            "Requirement already satisfied: joblib in /usr/local/lib/python3.10/dist-packages (from nltk) (1.4.2)\n",
            "Requirement already satisfied: regex>=2021.8.3 in /usr/local/lib/python3.10/dist-packages (from nltk) (2024.9.11)\n",
            "Requirement already satisfied: tqdm in /usr/local/lib/python3.10/dist-packages (from nltk) (4.66.5)\n"
          ]
        },
        {
          "output_type": "stream",
          "name": "stderr",
          "text": [
            "[nltk_data] Downloading package punkt to /root/nltk_data...\n",
            "[nltk_data]   Unzipping tokenizers/punkt.zip.\n"
          ]
        },
        {
          "output_type": "execute_result",
          "data": {
            "text/plain": [
              "True"
            ]
          },
          "metadata": {},
          "execution_count": 9
        }
      ]
    },
    {
      "cell_type": "code",
      "source": [
        "# Caminho da pasta no Google Drive\n",
        "folder_path = '/content/drive/MyDrive/Doutorado/Análise/Artigos para Análise'  # Substitua pelo caminho da sua pasta no Google Drive"
      ],
      "metadata": {
        "id": "QuymXJkPKiu4"
      },
      "execution_count": null,
      "outputs": []
    },
    {
      "cell_type": "code",
      "source": [
        "# Função para processar e resumir um documento Word e salvar o resumo em outro arquivo Word\n",
        "def process_and_save_summary(file_path, output_folder):\n",
        "    # Carrega o documento Word\n",
        "    doc = Document(file_path)\n",
        "\n",
        "    # Extraí o texto do documento\n",
        "    text = \"\"\n",
        "    for paragraph in doc.paragraphs:\n",
        "        text += paragraph.text + \"\\n\"\n",
        "\n",
        "    # Tokenizar o texto por sentenças\n",
        "    sentencas = sent_tokenize(text)\n",
        "    num_sentencas = len(sentencas)\n",
        "    sc = max(1, num_sentencas // 4)  # Quantidade de sentenças no resumo (aproximadamente 1/4 do texto)\n",
        "\n",
        "    # Configurar o parser e sumarizador\n",
        "    parser = PlaintextParser.from_string(text, Tokenizer('portuguese'))\n",
        "    sumarizador = LuhnSummarizer()\n",
        "\n",
        "    # Gerar o resumo\n",
        "    resumo = sumarizador(parser.document, sc)\n",
        "\n",
        "    # Cria um novo arquivo Word para salvar o resumo\n",
        "    resumo_doc = Document()\n",
        "\n",
        "    # Adiciona cada sentença do resumo ao novo documento Word\n",
        "    for sentenca in resumo:\n",
        "        resumo_doc.add_paragraph(str(sentenca))\n",
        "\n",
        "    # Nome do arquivo de saída\n",
        "    base_name = os.path.basename(file_path).replace('.docx', '_resumo.docx')\n",
        "    output_path = os.path.join(output_folder, base_name)\n",
        "\n",
        "    # Salvar o resumo no arquivo Word\n",
        "    resumo_doc.save(output_path)\n",
        "    print(f\"Resumo salvo em: {output_path}\")"
      ],
      "metadata": {
        "id": "S7OQOuQGKXNJ"
      },
      "execution_count": null,
      "outputs": []
    },
    {
      "cell_type": "code",
      "source": [
        "# Função para iterar sobre todos os arquivos Word na pasta\n",
        "def summarize_and_save_all_word_files_in_folder(folder_path, output_folder):\n",
        "    # Verifica se a pasta de saída existe, se não, cria\n",
        "    if not os.path.exists(output_folder):\n",
        "        os.makedirs(output_folder)\n",
        "\n",
        "    # Iterar sobre todos os arquivos na pasta especificada\n",
        "    for file_name in os.listdir(folder_path):\n",
        "        if file_name.endswith('.docx'):\n",
        "            file_path = os.path.join(folder_path, file_name)\n",
        "            print(f\"Processando arquivo: {file_name}\")\n",
        "\n",
        "            # Resumir e salvar o conteúdo do arquivo Word\n",
        "            process_and_save_summary(file_path, output_folder)"
      ],
      "metadata": {
        "id": "7LgVzhG_KdFd"
      },
      "execution_count": null,
      "outputs": []
    },
    {
      "cell_type": "code",
      "source": [
        "# Caminho da pasta de saída para salvar os resumos\n",
        "output_folder = '/content/drive/MyDrive/SUA_PASTA_RESUMOS'  # Substitua pelo caminho desejado para salvar os resumos"
      ],
      "metadata": {
        "id": "RELGHrukKnl4"
      },
      "execution_count": null,
      "outputs": []
    },
    {
      "cell_type": "code",
      "source": [
        "# Chamar a função para resumir todos os arquivos e salvar os resumos\n",
        "summarize_and_save_all_word_files_in_folder(folder_path, output_folder)"
      ],
      "metadata": {
        "id": "lm2KrizyKnsl",
        "colab": {
          "base_uri": "https://localhost:8080/"
        },
        "outputId": "7d088319-a08e-4c22-cc86-1680f2e01b4b"
      },
      "execution_count": null,
      "outputs": [
        {
          "output_type": "stream",
          "name": "stdout",
          "text": [
            "Processando arquivo: “Que Possamos Ser o que Somos” Memórias sobre o Movimento Gay de Alfenas no processo de luta pelos direitos de cidadania LGBT (2000-2018).docx\n",
            "Resumo salvo em: /content/drive/MyDrive/SUA_PASTA_RESUMOS/“Que Possamos Ser o que Somos” Memórias sobre o Movimento Gay de Alfenas no processo de luta pelos direitos de cidadania LGBT (2000-2018)_resumo.docx\n",
            "Processando arquivo: “semente para luta” - Ativismos, direito à saúde e enfrentamentos de pessoas lgbti na pandemia da covid-1.docx\n",
            "Resumo salvo em: /content/drive/MyDrive/SUA_PASTA_RESUMOS/“semente para luta” - Ativismos, direito à saúde e enfrentamentos de pessoas lgbti na pandemia da covid-1_resumo.docx\n",
            "Processando arquivo: “Sou gay e o movimento LGBTQI+ não me representa”_ mapeando a emergência de um ativismo gay à direita no Brasil.docx\n",
            "Resumo salvo em: /content/drive/MyDrive/SUA_PASTA_RESUMOS/“Sou gay e o movimento LGBTQI+ não me representa”_ mapeando a emergência de um ativismo gay à direita no Brasil_resumo.docx\n",
            "Processando arquivo: “Travesti”, “mulher transexual”, “homem trans” e “não binário” - Interseccionalidades de classe e geração na produção de identidades políticas.docx\n",
            "Resumo salvo em: /content/drive/MyDrive/SUA_PASTA_RESUMOS/“Travesti”, “mulher transexual”, “homem trans” e “não binário” - Interseccionalidades de classe e geração na produção de identidades políticas_resumo.docx\n",
            "Processando arquivo: 3614-Texto do artigo-14210-1-10-20210125.docx\n",
            "Resumo salvo em: /content/drive/MyDrive/SUA_PASTA_RESUMOS/3614-Texto do artigo-14210-1-10-20210125_resumo.docx\n",
            "Processando arquivo: 9064-Texto do Artigo-31861-1-10-20190917.docx\n",
            "Resumo salvo em: /content/drive/MyDrive/SUA_PASTA_RESUMOS/9064-Texto do Artigo-31861-1-10-20190917_resumo.docx\n",
            "Processando arquivo: 9066-Texto do Artigo-31864-1-10-20190918 (1).docx\n",
            "Resumo salvo em: /content/drive/MyDrive/SUA_PASTA_RESUMOS/9066-Texto do Artigo-31864-1-10-20190918 (1)_resumo.docx\n",
            "Processando arquivo: 9091-Texto do Artigo-31955-1-10-20190919.docx\n",
            "Resumo salvo em: /content/drive/MyDrive/SUA_PASTA_RESUMOS/9091-Texto do Artigo-31955-1-10-20190919_resumo.docx\n",
            "Processando arquivo: 9191-Texto do Artigo-32377-1-10-20191003.docx\n",
            "Resumo salvo em: /content/drive/MyDrive/SUA_PASTA_RESUMOS/9191-Texto do Artigo-32377-1-10-20191003_resumo.docx\n",
            "Processando arquivo: 9190-Texto do Artigo-32373-1-10-20191003.docx\n",
            "Resumo salvo em: /content/drive/MyDrive/SUA_PASTA_RESUMOS/9190-Texto do Artigo-32373-1-10-20191003_resumo.docx\n",
            "Processando arquivo: 9192-Texto do Artigo-32381-1-10-20191003.docx\n",
            "Resumo salvo em: /content/drive/MyDrive/SUA_PASTA_RESUMOS/9192-Texto do Artigo-32381-1-10-20191003_resumo.docx\n",
            "Processando arquivo: 9203-Texto do Artigo-32432-1-10-20191004.docx\n",
            "Resumo salvo em: /content/drive/MyDrive/SUA_PASTA_RESUMOS/9203-Texto do Artigo-32432-1-10-20191004_resumo.docx\n",
            "Processando arquivo: 9204-Texto do Artigo-32436-1-10-20191004.docx\n",
            "Resumo salvo em: /content/drive/MyDrive/SUA_PASTA_RESUMOS/9204-Texto do Artigo-32436-1-10-20191004_resumo.docx\n",
            "Processando arquivo: 9682-Texto do Artigo-41714-1-10-20200824.docx\n",
            "Resumo salvo em: /content/drive/MyDrive/SUA_PASTA_RESUMOS/9682-Texto do Artigo-41714-1-10-20200824_resumo.docx\n",
            "Processando arquivo: 9948-Texto do Artigo-35741-1-10-20200305.docx\n",
            "Resumo salvo em: /content/drive/MyDrive/SUA_PASTA_RESUMOS/9948-Texto do Artigo-35741-1-10-20200305_resumo.docx\n",
            "Processando arquivo: 10621-Texto do Artigo-44786-1-10-20201230.docx\n",
            "Resumo salvo em: /content/drive/MyDrive/SUA_PASTA_RESUMOS/10621-Texto do Artigo-44786-1-10-20201230_resumo.docx\n",
            "Processando arquivo: 10629-Texto do Artigo-44796-1-10-20201230.docx\n",
            "Resumo salvo em: /content/drive/MyDrive/SUA_PASTA_RESUMOS/10629-Texto do Artigo-44796-1-10-20201230_resumo.docx\n",
            "Processando arquivo: 10686-Texto do Artigo-44772-1-10-20201229.docx\n",
            "Resumo salvo em: /content/drive/MyDrive/SUA_PASTA_RESUMOS/10686-Texto do Artigo-44772-1-10-20201229_resumo.docx\n",
            "Processando arquivo: 12100-Texto do Artigo-55244-1-10-20220208.docx\n",
            "Resumo salvo em: /content/drive/MyDrive/SUA_PASTA_RESUMOS/12100-Texto do Artigo-55244-1-10-20220208_resumo.docx\n",
            "Processando arquivo: 12115-Texto do Artigo-55237-1-10-20220208.docx\n",
            "Resumo salvo em: /content/drive/MyDrive/SUA_PASTA_RESUMOS/12115-Texto do Artigo-55237-1-10-20220208_resumo.docx\n",
            "Processando arquivo: 12155-Texto do Artigo-55247-1-10-20220208(1).docx\n",
            "Resumo salvo em: /content/drive/MyDrive/SUA_PASTA_RESUMOS/12155-Texto do Artigo-55247-1-10-20220208(1)_resumo.docx\n",
            "Processando arquivo: 12172-Texto do Artigo-55223-1-10-20220207(1).docx\n",
            "Resumo salvo em: /content/drive/MyDrive/SUA_PASTA_RESUMOS/12172-Texto do Artigo-55223-1-10-20220207(1)_resumo.docx\n",
            "Processando arquivo: 12254-Texto do Artigo-55245-1-10-20220208.docx\n",
            "Resumo salvo em: /content/drive/MyDrive/SUA_PASTA_RESUMOS/12254-Texto do Artigo-55245-1-10-20220208_resumo.docx\n",
            "Processando arquivo: 12270-Texto do Artigo-55798-1-10-20220304.docx\n",
            "Resumo salvo em: /content/drive/MyDrive/SUA_PASTA_RESUMOS/12270-Texto do Artigo-55798-1-10-20220304_resumo.docx\n",
            "Processando arquivo: 12282-Texto do Artigo-55210-1-10-20220207.docx\n",
            "Resumo salvo em: /content/drive/MyDrive/SUA_PASTA_RESUMOS/12282-Texto do Artigo-55210-1-10-20220207_resumo.docx\n",
            "Processando arquivo: 12285-Texto do Artigo-55240-1-10-20220208.docx\n",
            "Resumo salvo em: /content/drive/MyDrive/SUA_PASTA_RESUMOS/12285-Texto do Artigo-55240-1-10-20220208_resumo.docx\n",
            "Processando arquivo: 12288-Texto do Artigo-55211-1-10-20220207.docx\n",
            "Resumo salvo em: /content/drive/MyDrive/SUA_PASTA_RESUMOS/12288-Texto do Artigo-55211-1-10-20220207_resumo.docx\n",
            "Processando arquivo: 12310-Texto do Artigo-55238-1-10-20220208.docx\n",
            "Resumo salvo em: /content/drive/MyDrive/SUA_PASTA_RESUMOS/12310-Texto do Artigo-55238-1-10-20220208_resumo.docx\n",
            "Processando arquivo: 12322-Texto do Artigo-55222-1-10-20220207.docx\n",
            "Resumo salvo em: /content/drive/MyDrive/SUA_PASTA_RESUMOS/12322-Texto do Artigo-55222-1-10-20220207_resumo.docx\n",
            "Processando arquivo: 23799-Texto do Artigo-87222-1-10-20171221.docx\n",
            "Resumo salvo em: /content/drive/MyDrive/SUA_PASTA_RESUMOS/23799-Texto do Artigo-87222-1-10-20171221_resumo.docx\n",
            "Processando arquivo: 25504-Texto do Artigo-93033-3-10-20180610.docx\n",
            "Resumo salvo em: /content/drive/MyDrive/SUA_PASTA_RESUMOS/25504-Texto do Artigo-93033-3-10-20180610_resumo.docx\n",
            "Processando arquivo: 33044-Texto do Artigo-129889-2-10-20200402.docx\n",
            "Resumo salvo em: /content/drive/MyDrive/SUA_PASTA_RESUMOS/33044-Texto do Artigo-129889-2-10-20200402_resumo.docx\n",
            "Processando arquivo: 37172-Texto do Artigo-160855-2-10-20201015.docx\n",
            "Resumo salvo em: /content/drive/MyDrive/SUA_PASTA_RESUMOS/37172-Texto do Artigo-160855-2-10-20201015_resumo.docx\n",
            "Processando arquivo: 26201-Texto do Artigo-93034-1-10-20180529.docx\n",
            "Resumo salvo em: /content/drive/MyDrive/SUA_PASTA_RESUMOS/26201-Texto do Artigo-93034-1-10-20180529_resumo.docx\n",
            "Processando arquivo: 26646-Texto do Artigo-93205-3-10-20180604.docx\n",
            "Resumo salvo em: /content/drive/MyDrive/SUA_PASTA_RESUMOS/26646-Texto do Artigo-93205-3-10-20180604_resumo.docx\n",
            "Processando arquivo: 26648-Texto do Artigo-93216-2-10-20180604.docx\n",
            "Resumo salvo em: /content/drive/MyDrive/SUA_PASTA_RESUMOS/26648-Texto do Artigo-93216-2-10-20180604_resumo.docx\n",
            "Processando arquivo: 32476-Texto do Artigo-129542-1-10-20200329.docx\n",
            "Resumo salvo em: /content/drive/MyDrive/SUA_PASTA_RESUMOS/32476-Texto do Artigo-129542-1-10-20200329_resumo.docx\n",
            "Processando arquivo: 42148-Texto do Artigo-165931-1-10-20210123.docx\n",
            "Resumo salvo em: /content/drive/MyDrive/SUA_PASTA_RESUMOS/42148-Texto do Artigo-165931-1-10-20210123_resumo.docx\n",
            "Processando arquivo: 49116-Texto do Artigo-196943-1-10-20220701.docx\n",
            "Resumo salvo em: /content/drive/MyDrive/SUA_PASTA_RESUMOS/49116-Texto do Artigo-196943-1-10-20220701_resumo.docx\n",
            "Processando arquivo: 35401903.docx\n",
            "Resumo salvo em: /content/drive/MyDrive/SUA_PASTA_RESUMOS/35401903_resumo.docx\n",
            "Processando arquivo: Agendas de saúde voltadas para gays e lésbicas.docx\n",
            "Resumo salvo em: /content/drive/MyDrive/SUA_PASTA_RESUMOS/Agendas de saúde voltadas para gays e lésbicas_resumo.docx\n",
            "Processando arquivo: Anthropology and the process of the construction of homosexual citizenship in Brazil.docx\n",
            "Resumo salvo em: /content/drive/MyDrive/SUA_PASTA_RESUMOS/Anthropology and the process of the construction of homosexual citizenship in Brazil_resumo.docx\n",
            "Processando arquivo: Ativismo homossexual indígena - Uma análise comparativa entre Brasil e América do Norte.docx\n",
            "Resumo salvo em: /content/drive/MyDrive/SUA_PASTA_RESUMOS/Ativismo homossexual indígena - Uma análise comparativa entre Brasil e América do Norte_resumo.docx\n",
            "Processando arquivo: Conservative religious activism in the Brazilian Congress - Sexual agendas in focus.docx\n",
            "Resumo salvo em: /content/drive/MyDrive/SUA_PASTA_RESUMOS/Conservative religious activism in the Brazilian Congress - Sexual agendas in focus_resumo.docx\n",
            "Processando arquivo: Corpos brutalizados - Conflitos e materializações nas mortes de LGBT.docx\n",
            "Resumo salvo em: /content/drive/MyDrive/SUA_PASTA_RESUMOS/Corpos brutalizados - Conflitos e materializações nas mortes de LGBT_resumo.docx\n",
            "Processando arquivo: document (4).docx\n",
            "Resumo salvo em: /content/drive/MyDrive/SUA_PASTA_RESUMOS/document (4)_resumo.docx\n",
            "Processando arquivo: document (5).docx\n",
            "Resumo salvo em: /content/drive/MyDrive/SUA_PASTA_RESUMOS/document (5)_resumo.docx\n",
            "Processando arquivo: document (6).docx\n",
            "Resumo salvo em: /content/drive/MyDrive/SUA_PASTA_RESUMOS/document (6)_resumo.docx\n",
            "Processando arquivo: 2007.docx\n",
            "Resumo salvo em: /content/drive/MyDrive/SUA_PASTA_RESUMOS/2007_resumo.docx\n",
            "Processando arquivo: 2008.docx\n",
            "Resumo salvo em: /content/drive/MyDrive/SUA_PASTA_RESUMOS/2008_resumo.docx\n",
            "Processando arquivo: 2008-1.docx\n",
            "Resumo salvo em: /content/drive/MyDrive/SUA_PASTA_RESUMOS/2008-1_resumo.docx\n",
            "Processando arquivo: 2009.docx\n",
            "Resumo salvo em: /content/drive/MyDrive/SUA_PASTA_RESUMOS/2009_resumo.docx\n",
            "Processando arquivo: 2011.docx\n",
            "Resumo salvo em: /content/drive/MyDrive/SUA_PASTA_RESUMOS/2011_resumo.docx\n",
            "Processando arquivo: 2011-1.docx\n",
            "Resumo salvo em: /content/drive/MyDrive/SUA_PASTA_RESUMOS/2011-1_resumo.docx\n",
            "Processando arquivo: 2012.docx\n",
            "Resumo salvo em: /content/drive/MyDrive/SUA_PASTA_RESUMOS/2012_resumo.docx\n",
            "Processando arquivo: 2013.docx\n",
            "Resumo salvo em: /content/drive/MyDrive/SUA_PASTA_RESUMOS/2013_resumo.docx\n",
            "Processando arquivo: 2015.docx\n",
            "Resumo salvo em: /content/drive/MyDrive/SUA_PASTA_RESUMOS/2015_resumo.docx\n",
            "Processando arquivo: 2016.docx\n",
            "Resumo salvo em: /content/drive/MyDrive/SUA_PASTA_RESUMOS/2016_resumo.docx\n",
            "Processando arquivo: 2016-1.docx\n",
            "Resumo salvo em: /content/drive/MyDrive/SUA_PASTA_RESUMOS/2016-1_resumo.docx\n",
            "Processando arquivo: 2018.docx\n",
            "Resumo salvo em: /content/drive/MyDrive/SUA_PASTA_RESUMOS/2018_resumo.docx\n",
            "Processando arquivo: 2018-1.docx\n",
            "Resumo salvo em: /content/drive/MyDrive/SUA_PASTA_RESUMOS/2018-1_resumo.docx\n",
            "Processando arquivo: 2019-1.docx\n",
            "Resumo salvo em: /content/drive/MyDrive/SUA_PASTA_RESUMOS/2019-1_resumo.docx\n",
            "Processando arquivo: 2021-1.docx\n",
            "Resumo salvo em: /content/drive/MyDrive/SUA_PASTA_RESUMOS/2021-1_resumo.docx\n",
            "Processando arquivo: 2022.docx\n",
            "Resumo salvo em: /content/drive/MyDrive/SUA_PASTA_RESUMOS/2022_resumo.docx\n",
            "Processando arquivo: 2021.docx\n",
            "Resumo salvo em: /content/drive/MyDrive/SUA_PASTA_RESUMOS/2021_resumo.docx\n",
            "Processando arquivo: 2020.docx\n",
            "Resumo salvo em: /content/drive/MyDrive/SUA_PASTA_RESUMOS/2020_resumo.docx\n",
            "Processando arquivo: document (7).docx\n",
            "Resumo salvo em: /content/drive/MyDrive/SUA_PASTA_RESUMOS/document (7)_resumo.docx\n",
            "Processando arquivo: document (8).docx\n",
            "Resumo salvo em: /content/drive/MyDrive/SUA_PASTA_RESUMOS/document (8)_resumo.docx\n",
            "Processando arquivo: document (9).docx\n",
            "Resumo salvo em: /content/drive/MyDrive/SUA_PASTA_RESUMOS/document (9)_resumo.docx\n",
            "Processando arquivo: document (10).docx\n",
            "Resumo salvo em: /content/drive/MyDrive/SUA_PASTA_RESUMOS/document (10)_resumo.docx\n",
            "Processando arquivo: document (11).docx\n",
            "Resumo salvo em: /content/drive/MyDrive/SUA_PASTA_RESUMOS/document (11)_resumo.docx\n",
            "Processando arquivo: document (13).docx\n",
            "Resumo salvo em: /content/drive/MyDrive/SUA_PASTA_RESUMOS/document (13)_resumo.docx\n",
            "Processando arquivo: document (14).docx\n",
            "Resumo salvo em: /content/drive/MyDrive/SUA_PASTA_RESUMOS/document (14)_resumo.docx\n",
            "Processando arquivo: document (15).docx\n",
            "Resumo salvo em: /content/drive/MyDrive/SUA_PASTA_RESUMOS/document (15)_resumo.docx\n",
            "Processando arquivo: document (16).docx\n",
            "Resumo salvo em: /content/drive/MyDrive/SUA_PASTA_RESUMOS/document (16)_resumo.docx\n",
            "Processando arquivo: Education and health in dispute - Anti-egalitarian movements and public policies.docx\n",
            "Resumo salvo em: /content/drive/MyDrive/SUA_PASTA_RESUMOS/Education and health in dispute - Anti-egalitarian movements and public policies_resumo.docx\n",
            "Processando arquivo: Educational spaces and the production of gay, transvestite and transsexual subjectivities.docx\n",
            "Resumo salvo em: /content/drive/MyDrive/SUA_PASTA_RESUMOS/Educational spaces and the production of gay, transvestite and transsexual subjectivities_resumo.docx\n",
            "Processando arquivo: Entre a diversidade e o antagonismo - Práticas articulatórias da discursividade LGBT no Ministério da Cultura.docx\n",
            "Resumo salvo em: /content/drive/MyDrive/SUA_PASTA_RESUMOS/Entre a diversidade e o antagonismo - Práticas articulatórias da discursividade LGBT no Ministério da Cultura_resumo.docx\n",
            "Processando arquivo: Envolvimento em organizações não governamentais e a participação em ações de prevenção ao HIVaids por homens que fazem sexo com homens no Brasil.docx\n",
            "Resumo salvo em: /content/drive/MyDrive/SUA_PASTA_RESUMOS/Envolvimento em organizações não governamentais e a participação em ações de prevenção ao HIVaids por homens que fazem sexo com homens no Brasil_resumo.docx\n",
            "Processando arquivo: FORMAÇÕES POLÍTICAS DE MULHERES TRANSGÊNERAS CAMINHOS PARA A CONSTRUÇÃO DE UMA CIDADANIA TRANSCOMUNICATIVA.docx\n",
            "Resumo salvo em: /content/drive/MyDrive/SUA_PASTA_RESUMOS/FORMAÇÕES POLÍTICAS DE MULHERES TRANSGÊNERAS CAMINHOS PARA A CONSTRUÇÃO DE UMA CIDADANIA TRANSCOMUNICATIVA_resumo.docx\n",
            "Processando arquivo: Identidade e diversidade no contexto brasileiro Uma análise da parceria entre Estado e movimentos sociais LGBT de 2002 a 2015.docx\n",
            "Resumo salvo em: /content/drive/MyDrive/SUA_PASTA_RESUMOS/Identidade e diversidade no contexto brasileiro Uma análise da parceria entre Estado e movimentos sociais LGBT de 2002 a 2015_resumo.docx\n",
            "Processando arquivo: Informação E Patrimônio Cultural Lgbt As Mobilizações Em Torno Da Patrimonialização Da Parada Do Orgulho Lgbt De São Paulo.docx\n",
            "Resumo salvo em: /content/drive/MyDrive/SUA_PASTA_RESUMOS/Informação E Patrimônio Cultural Lgbt As Mobilizações Em Torno Da Patrimonialização Da Parada Do Orgulho Lgbt De São Paulo_resumo.docx\n",
            "Processando arquivo: Mais ativista do que gestora - Ativismo institucional no campo do movimento LGBT em Campinas.docx\n",
            "Resumo salvo em: /content/drive/MyDrive/SUA_PASTA_RESUMOS/Mais ativista do que gestora - Ativismo institucional no campo do movimento LGBT em Campinas_resumo.docx\n",
            "Processando arquivo: Movimento trans em Belo Horizonte - Resgatando o histórico e mapeando o presente.docx\n",
            "Resumo salvo em: /content/drive/MyDrive/SUA_PASTA_RESUMOS/Movimento trans em Belo Horizonte - Resgatando o histórico e mapeando o presente_resumo.docx\n",
            "Processando arquivo: Movimentos emaranhados - Travestis, movimentos sociais e práticas acadêmicas.docx\n",
            "Resumo salvo em: /content/drive/MyDrive/SUA_PASTA_RESUMOS/Movimentos emaranhados - Travestis, movimentos sociais e práticas acadêmicas_resumo.docx\n",
            "Processando arquivo: Movimentos feminista, negro e lgbti no brasil - Sujeitos, teias e enquadramentos.docx\n",
            "Resumo salvo em: /content/drive/MyDrive/SUA_PASTA_RESUMOS/Movimentos feminista, negro e lgbti no brasil - Sujeitos, teias e enquadramentos_resumo.docx\n",
            "Processando arquivo: Notas etnográficas sobre duas manifestações de rua do ativismo trans no Brasil.docx\n",
            "Resumo salvo em: /content/drive/MyDrive/SUA_PASTA_RESUMOS/Notas etnográficas sobre duas manifestações de rua do ativismo trans no Brasil_resumo.docx\n",
            "Processando arquivo: Oportunidades políticas em um presidencialismo de coalizão.docx\n",
            "Resumo salvo em: /content/drive/MyDrive/SUA_PASTA_RESUMOS/Oportunidades políticas em um presidencialismo de coalizão_resumo.docx\n",
            "Processando arquivo: Participação dos movimentos sociais na saúde de gays e lésbicas.docx\n",
            "Resumo salvo em: /content/drive/MyDrive/SUA_PASTA_RESUMOS/Participação dos movimentos sociais na saúde de gays e lésbicas_resumo.docx\n",
            "Processando arquivo: Participação política e experiência homossexual - dilemas entre o indivíduo e o coletivo.docx\n",
            "Resumo salvo em: /content/drive/MyDrive/SUA_PASTA_RESUMOS/Participação política e experiência homossexual - dilemas entre o indivíduo e o coletivo_resumo.docx\n",
            "Processando arquivo: Participationism and Identity Differentialism in Relations between State and Social Movements in Brazil (2003-2010).docx\n",
            "Resumo salvo em: /content/drive/MyDrive/SUA_PASTA_RESUMOS/Participationism and Identity Differentialism in Relations between State and Social Movements in Brazil (2003-2010)_resumo.docx\n",
            "Processando arquivo: The LGBT movement and the gender and sexual diversity education policies - Losses, gains and challenges.docx\n",
            "Resumo salvo em: /content/drive/MyDrive/SUA_PASTA_RESUMOS/The LGBT movement and the gender and sexual diversity education policies - Losses, gains and challenges_resumo.docx\n",
            "Processando arquivo: Trazendo os governos de volta - A chefia do executivo e os resultados do ativismo institucional LGBT (2003-2014).docx\n",
            "Resumo salvo em: /content/drive/MyDrive/SUA_PASTA_RESUMOS/Trazendo os governos de volta - A chefia do executivo e os resultados do ativismo institucional LGBT (2003-2014)_resumo.docx\n",
            "Processando arquivo: Um_olhar_sobre_a_historia_do_ativismo_LG.docx\n",
            "Resumo salvo em: /content/drive/MyDrive/SUA_PASTA_RESUMOS/Um_olhar_sobre_a_historia_do_ativismo_LG_resumo.docx\n",
            "Processando arquivo: Uma sociologia do escândalo da Mostra Queermuseu - disputas de enquadramento midiático entre o jornalismo profissional e o Movimento Brasil Livre.docx\n",
            "Resumo salvo em: /content/drive/MyDrive/SUA_PASTA_RESUMOS/Uma sociologia do escândalo da Mostra Queermuseu - disputas de enquadramento midiático entre o jornalismo profissional e o Movimento Brasil Livre_resumo.docx\n",
            "Processando arquivo: 2014.docx\n",
            "Resumo salvo em: /content/drive/MyDrive/SUA_PASTA_RESUMOS/2014_resumo.docx\n"
          ]
        }
      ]
    }
  ]
}