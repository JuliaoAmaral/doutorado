{
  "nbformat": 4,
  "nbformat_minor": 0,
  "metadata": {
    "colab": {
      "provenance": [],
      "authorship_tag": "ABX9TyNQFWO9gPmkoR2AbVTvWVjn",
      "include_colab_link": true
    },
    "kernelspec": {
      "name": "python3",
      "display_name": "Python 3"
    },
    "language_info": {
      "name": "python"
    }
  },
  "cells": [
    {
      "cell_type": "markdown",
      "metadata": {
        "id": "view-in-github",
        "colab_type": "text"
      },
      "source": [
        "<a href=\"https://colab.research.google.com/github/JuliaoAmaral/doutorado/blob/main/coleta_metadados.ipynb\" target=\"_parent\"><img src=\"https://colab.research.google.com/assets/colab-badge.svg\" alt=\"Open In Colab\"/></a>"
      ]
    },
    {
      "cell_type": "markdown",
      "source": [
        "O código abaixo usa Expressões Regulares para buscar os metadados dos artigos através de caracateres especiais inseridos no arquivo de word no momento do tratamento dos dados."
      ],
      "metadata": {
        "id": "Ke2vVaqbiNZZ"
      }
    },
    {
      "cell_type": "code",
      "execution_count": 1,
      "metadata": {
        "id": "vkSc-LtMiB1N",
        "colab": {
          "base_uri": "https://localhost:8080/"
        },
        "outputId": "adfd367d-b33d-4b4b-9f2e-ed5424697839"
      },
      "outputs": [
        {
          "output_type": "stream",
          "name": "stdout",
          "text": [
            "Mounted at /content/drive\n"
          ]
        }
      ],
      "source": [
        "from google.colab import drive\n",
        "drive.mount('/content/drive')"
      ]
    },
    {
      "cell_type": "code",
      "source": [
        "!pip install python-docx\n",
        "\n",
        "import os\n",
        "import re\n",
        "import pandas as pd\n",
        "from docx import Document"
      ],
      "metadata": {
        "id": "YlcRkF5aimwH",
        "colab": {
          "base_uri": "https://localhost:8080/"
        },
        "outputId": "6bcc6b07-e532-42e0-9eb5-c32def31ec1d"
      },
      "execution_count": 2,
      "outputs": [
        {
          "output_type": "stream",
          "name": "stdout",
          "text": [
            "Collecting python-docx\n",
            "  Downloading python_docx-1.1.2-py3-none-any.whl.metadata (2.0 kB)\n",
            "Requirement already satisfied: lxml>=3.1.0 in /usr/local/lib/python3.10/dist-packages (from python-docx) (4.9.4)\n",
            "Requirement already satisfied: typing-extensions>=4.9.0 in /usr/local/lib/python3.10/dist-packages (from python-docx) (4.12.2)\n",
            "Downloading python_docx-1.1.2-py3-none-any.whl (244 kB)\n",
            "\u001b[2K   \u001b[90m━━━━━━━━━━━━━━━━━━━━━━━━━━━━━━━━━━━━━━━━\u001b[0m \u001b[32m244.3/244.3 kB\u001b[0m \u001b[31m4.2 MB/s\u001b[0m eta \u001b[36m0:00:00\u001b[0m\n",
            "\u001b[?25hInstalling collected packages: python-docx\n",
            "Successfully installed python-docx-1.1.2\n"
          ]
        }
      ]
    },
    {
      "cell_type": "code",
      "source": [
        "# Função para extrair metadados de um arquivo .docx\n",
        "def extrair_metadados(caminho_arquivo):\n",
        "    doc = Document(caminho_arquivo)\n",
        "    texto_docx = \"\"\n",
        "    for paragrafo in doc.paragraphs:\n",
        "        texto_docx += paragrafo.text + \"\\n\"\n",
        "\n",
        "    padrao_periodico = r'<rev>\\s*([^<]+)\\s*<\\\\rev>'\n",
        "    match_periodico = re.search(padrao_periodico, texto_docx)\n",
        "    nome_periodico = match_periodico.group(1).strip() if match_periodico else None\n",
        "\n",
        "    padrao_titulo = r'<tit>(.*?)<\\\\tit>'\n",
        "    titulos_encontrados = re.findall(padrao_titulo, texto_docx, re.DOTALL)\n",
        "\n",
        "    padrao_autores = r'<aut>(.*?)<\\\\aut>'\n",
        "    autores_encontrados = re.findall(padrao_autores, texto_docx, re.DOTALL)\n",
        "\n",
        "    padrao_orcid = r'<orc>\\s*ORCID:\\s*(.*?)\\s*<\\\\orc>'\n",
        "    match_orcid = re.search(padrao_orcid, texto_docx)\n",
        "    numero_orcid = match_orcid.group(1).strip() if match_orcid else None\n",
        "\n",
        "    padrao_afiliacao = r'<afi>(.*?)<\\\\afi>'\n",
        "    afiliacoes_encontradas = re.findall(padrao_afiliacao, texto_docx, re.DOTALL)\n",
        "\n",
        "    padrao_resumo = r'<abs>(.*?)<\\\\abs>'\n",
        "    resumo_encontrado = re.search(padrao_resumo, texto_docx, re.DOTALL)\n",
        "    resumo = resumo_encontrado.group(1) if resumo_encontrado else None\n",
        "\n",
        "    padrao_palavras_chave = r'<key>(.*?)<\\\\key>'\n",
        "    palavras_chave_encontradas = re.findall(padrao_palavras_chave, texto_docx, re.DOTALL)\n",
        "\n",
        "    padrao_volume = r'<vol>(.*?)<\\\\vol>'\n",
        "    match_volume = re.search(padrao_volume, texto_docx)\n",
        "    volume = match_volume.group(1).strip() if match_volume else None\n",
        "\n",
        "    padrao_numero = r'<num>\\s*(\\d+)\\s*<\\\\num>'\n",
        "    match_numero = re.search(padrao_numero, texto_docx)\n",
        "    numero = match_numero.group(1) if match_numero else None\n",
        "\n",
        "    padrao_ano = r'<ano>\\s*Ano:\\s*(\\d{4})\\s*<\\\\ano>'\n",
        "    match_ano = re.search(padrao_ano, texto_docx)\n",
        "    ano_publicacao = match_ano.group(1) if match_ano else None\n",
        "\n",
        "    padrao_doi = r'<doi>\\s*DOI:\\s*([^\\s<]+)\\s*<\\\\doi>'\n",
        "    match_doi = re.search(padrao_doi, texto_docx)\n",
        "    doi = match_doi.group(1) if match_doi else None\n",
        "\n",
        "    padrao_referencia = r'<i>(.*?)<\\\\f>'\n",
        "    referencias_encontradas = re.findall(padrao_referencia, texto_docx, re.DOTALL)\n",
        "\n",
        "    return {\n",
        "        'Nome do Periódico': nome_periodico,\n",
        "        'Títulos': titulos_encontrados,\n",
        "        'Autores': autores_encontrados,\n",
        "        'ORCID': numero_orcid,\n",
        "        'Afiliações': afiliacoes_encontradas,\n",
        "        'Resumo': resumo,\n",
        "        'Palavras-Chave': palavras_chave_encontradas,\n",
        "        'Volume': volume,\n",
        "        'Número': numero,\n",
        "        'Ano de Publicação': ano_publicacao,\n",
        "        'DOI': doi,\n",
        "        'Referências': referencias_encontradas\n",
        "    }"
      ],
      "metadata": {
        "id": "83ttMN4lir98"
      },
      "execution_count": 3,
      "outputs": []
    },
    {
      "cell_type": "code",
      "source": [
        "# Pasta contendo os arquivos .docx no Google Drive\n",
        "pasta_arquivos = '/content/drive/MyDrive/Doutorado/Análise/Artigos para Análise'"
      ],
      "metadata": {
        "id": "k1JNR4x_iyrV"
      },
      "execution_count": 4,
      "outputs": []
    },
    {
      "cell_type": "code",
      "source": [
        "# Lista para armazenar os metadados de todos os arquivos\n",
        "lista_metadados = []\n",
        "\n",
        "# Iterar sobre os arquivos na pasta\n",
        "for arquivo in os.listdir(pasta_arquivos):\n",
        "    if arquivo.endswith(\".docx\"):\n",
        "        caminho_arquivo = os.path.join(pasta_arquivos, arquivo)\n",
        "        metadados = extrair_metadados(caminho_arquivo)\n",
        "        lista_metadados.append(metadados)\n",
        "\n",
        "# Converter a lista de metadados em DataFrame\n",
        "df_metadados = pd.DataFrame(lista_metadados)\n",
        "\n",
        "# Nome do arquivo Excel de saída\n",
        "nome_arquivo_excel = '/content/drive/MyDrive/Doutorado/Análise/Metadados_Artigos.xlsx'\n",
        "\n",
        "# Exportar os metadados para o arquivo Excel\n",
        "df_metadados.to_excel(nome_arquivo_excel, index=False)\n",
        "\n",
        "print(\"Exportação concluída com sucesso!\")"
      ],
      "metadata": {
        "id": "lXdn5MDai4C5",
        "colab": {
          "base_uri": "https://localhost:8080/"
        },
        "outputId": "a7863826-d633-4b41-d548-15444069cfa9"
      },
      "execution_count": 5,
      "outputs": [
        {
          "output_type": "stream",
          "name": "stdout",
          "text": [
            "Exportação concluída com sucesso!\n"
          ]
        }
      ]
    },
    {
      "cell_type": "code",
      "source": [],
      "metadata": {
        "id": "hhB9IHvWi4Li"
      },
      "execution_count": null,
      "outputs": []
    }
  ]
}